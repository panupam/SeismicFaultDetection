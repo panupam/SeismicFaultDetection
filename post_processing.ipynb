{
 "cells": [
  {
   "cell_type": "code",
   "execution_count": 1,
   "id": "078613ed-8b96-4fac-9532-9fe87e9b5ca3",
   "metadata": {
    "tags": []
   },
   "outputs": [
    {
     "data": {
      "text/plain": [
       "32"
      ]
     },
     "execution_count": 1,
     "metadata": {},
     "output_type": "execute_result"
    }
   ],
   "source": [
    "import cv2\n",
    "img = cv2.imread(\"10epochs.png\",0)\n",
    "\n",
    "#Create default Fast Line Detector (FSD)\n",
    "fld = cv2.ximgproc.createFastLineDetector(distance_threshold = 4 )\n",
    "\n",
    "#Detect lines in the image\n",
    "lines = fld.detect(img)\n",
    "\n",
    "#Draw detected lines in the image\n",
    "drawn_img = fld.drawSegments(img,lines)\n",
    "#Show image\n",
    "cv2.imshow(\"FLD\", drawn_img)\n",
    "cv2.waitKey(0)"
   ]
  },
  {
   "cell_type": "code",
   "execution_count": null,
   "id": "c883ef72-cdf2-4e96-b155-f12fc2667665",
   "metadata": {
    "tags": []
   },
   "outputs": [],
   "source": [
    "import cv2\n",
    "import numpy as np\n",
    "\n",
    "# read image\n",
    "img = cv2.imread('10epochs.png')\n",
    "\n",
    "# median blur\n",
    "median = cv2.medianBlur(img, 5)\n",
    "\n",
    "# threshold on black\n",
    "lower = (0,0,0)\n",
    "upper = (15,15,15)\n",
    "thresh = cv2.inRange(median, lower, upper)\n",
    "\n",
    "# apply morphology open and close\n",
    "kernel = cv2.getStructuringElement(cv2.MORPH_RECT, (3,3))\n",
    "morph = cv2.morphologyEx(thresh, cv2.MORPH_OPEN, kernel)\n",
    "kernel = cv2.getStructuringElement(cv2.MORPH_RECT, (29,29))\n",
    "morph = cv2.morphologyEx(morph, cv2.MORPH_CLOSE, kernel)\n",
    "\n",
    "# filter contours on area\n",
    "contours = cv2.findContours(morph, cv2.RETR_EXTERNAL, cv2.CHAIN_APPROX_SIMPLE)\n",
    "contours = contours[0] if len(contours) == 2 else contours[1]\n",
    "result = img.copy()\n",
    "for c in contours:\n",
    "    area = cv2.contourArea(c)\n",
    "    if area > 1000:\n",
    "            cv2.drawContours(result, [c], -1, (0, 0, 255), 2)\n",
    "  \n",
    "# save result\n",
    "cv2.imwrite(\"black_lines_threshold.jpg\", thresh)\n",
    "cv2.imwrite(\"black_lines_morphology.jpg\", morph)\n",
    "cv2.imwrite(\"black_lines_result.jpg\", result)\n",
    "\n",
    "# view result\n",
    "cv2.imshow(\"threshold\", thresh)\n",
    "cv2.imshow(\"morphology\", morph)\n",
    "cv2.imshow(\"result\", result)\n",
    "cv2.waitKey(0)\n",
    "cv2.destroyAllWindows()"
   ]
  },
  {
   "cell_type": "code",
   "execution_count": 5,
   "id": "85e244ef-99f3-4c3a-9d2d-1d7830f18028",
   "metadata": {
    "tags": []
   },
   "outputs": [
    {
     "data": {
      "text/plain": [
       "(1200, 1200, 3)"
      ]
     },
     "execution_count": 5,
     "metadata": {},
     "output_type": "execute_result"
    }
   ],
   "source": [
    "result.shape"
   ]
  },
  {
   "cell_type": "code",
   "execution_count": 9,
   "id": "fea8ef57-8dea-4898-b330-f561425d2c86",
   "metadata": {
    "tags": []
   },
   "outputs": [
    {
     "data": {
      "text/plain": [
       "(1200, 3)"
      ]
     },
     "execution_count": 9,
     "metadata": {},
     "output_type": "execute_result"
    }
   ],
   "source": [
    "result[0].shape"
   ]
  },
  {
   "cell_type": "code",
   "execution_count": 1,
   "id": "963a84f1-f1e3-4d37-a2f3-5bef55d492f2",
   "metadata": {
    "tags": []
   },
   "outputs": [
    {
     "name": "stdout",
     "output_type": "stream",
     "text": [
      "line_edges\n"
     ]
    }
   ],
   "source": [
    "import cv2\n",
    "import numpy as np\n",
    "img = cv2.imread('10epochs.png')\n",
    "gray = cv2.cvtColor(img,cv2.COLOR_BGR2GRAY)\n",
    "\n",
    "kernel_size = 5\n",
    "blur_gray = cv2.GaussianBlur(gray,(kernel_size, kernel_size),0)\n",
    "\n",
    "low_threshold = 50\n",
    "high_threshold = 150\n",
    "edges = cv2.Canny(blur_gray, low_threshold, high_threshold)\n",
    "\n",
    "rho = 1  # distance resolution in pixels of the Hough grid\n",
    "theta = np.pi / 180  # angular resolution in radians of the Hough grid\n",
    "threshold = 15  # minimum number of votes (intersections in Hough grid cell)\n",
    "min_line_length = 50  # minimum number of pixels making up a line\n",
    "max_line_gap = 20  # maximum gap in pixels between connectable line segments\n",
    "line_image = np.copy(img) * 0  # creating a blank to draw lines on\n",
    "\n",
    "# Run Hough on edge detected image\n",
    "# Output \"lines\" is an array containing endpoints of detected line segments\n",
    "lines = cv2.HoughLinesP(edges, rho, theta, threshold, np.array([]),\n",
    "                    min_line_length, max_line_gap)\n",
    "\n",
    "for line in lines:\n",
    "    for x1,y1,x2,y2 in line:\n",
    "        cv2.line(line_image,(x1,y1),(x2,y2),(255,0,0),5)\n",
    "    \n",
    "\n",
    "print(\"line_edges\")\n",
    "# Draw the lines on the  image\n",
    "lines_edges = cv2.addWeighted(img, 0.8, line_image, 1, 0)"
   ]
  },
  {
   "cell_type": "code",
   "execution_count": 10,
   "id": "edada677-d58a-415e-9961-df1772147eca",
   "metadata": {
    "tags": []
   },
   "outputs": [
    {
     "data": {
      "text/plain": [
       "(1200, 1200, 3)"
      ]
     },
     "execution_count": 10,
     "metadata": {},
     "output_type": "execute_result"
    }
   ],
   "source": [
    "lines_edges.shape"
   ]
  },
  {
   "cell_type": "code",
   "execution_count": 8,
   "id": "c5243cda-092f-46e9-9b9d-37cb45637110",
   "metadata": {
    "tags": []
   },
   "outputs": [],
   "source": [
    "cv2.imshow('thres',lines_edges)\n",
    "cv2.waitKey(0)\n",
    "cv2.destroyAllWindows()"
   ]
  },
  {
   "cell_type": "code",
   "execution_count": 5,
   "id": "a318feb6-54a1-4b82-90ed-9a2d57ff191f",
   "metadata": {
    "tags": []
   },
   "outputs": [],
   "source": [
    "def line_len(x1,y1,x2,y2):\n",
    "    return np.sqrt((x2-x1)*(x2-x1)+(y2-y1)*(y2-y1))\n",
    "\n",
    "def cal_slope(x1,y1,x2,y2):\n",
    "    return (y2-y1)/(x2-x1) \n",
    "\n",
    "def cal_angle_lines(m1,m2):\n",
    "    return np.arctan((m2-m1)/(1+m1*m2))\n",
    "\n",
    "def connect(arr,x1,y1,x2,y2): #basically adds another line in the existing array\n",
    "    aa = np.array([[x1,y1,x2,y2]])\n",
    "    arr = np.append(arr,[aa],axis = 0)\n",
    "    return arr"
   ]
  },
  {
   "cell_type": "code",
   "execution_count": 6,
   "id": "277aa2ee-2757-47b7-ae13-362cdd4627fd",
   "metadata": {
    "tags": []
   },
   "outputs": [
    {
     "data": {
      "text/plain": [
       "(135, 1, 4)"
      ]
     },
     "execution_count": 6,
     "metadata": {},
     "output_type": "execute_result"
    }
   ],
   "source": [
    "lines.shape"
   ]
  },
  {
   "cell_type": "code",
   "execution_count": 7,
   "id": "4ad3ef77-d5ea-403a-9770-8359228854da",
   "metadata": {
    "tags": []
   },
   "outputs": [
    {
     "data": {
      "text/plain": [
       "array([[[ 152, 1070, 1078, 1070]],\n",
       "\n",
       "       [[1079, 1069, 1079,  143]],\n",
       "\n",
       "       [[ 151, 1068,  151,  143]],\n",
       "\n",
       "       [[ 153,  142, 1078,  142]],\n",
       "\n",
       "       [[1020, 1126, 1090, 1126]],\n",
       "\n",
       "       [[ 409,  375,  457,  492]],\n",
       "\n",
       "       [[ 845,  776,  845,  627]],\n",
       "\n",
       "       [[ 839, 1115,  911, 1118]],\n",
       "\n",
       "       [[ 660, 1102,  729, 1102]],\n",
       "\n",
       "       [[ 996,  423, 1069,  605]],\n",
       "\n",
       "       [[ 429,  375,  483,  501]],\n",
       "\n",
       "       [[ 479, 1124,  550, 1124]],\n",
       "\n",
       "       [[ 302, 1130,  362, 1130]],\n",
       "\n",
       "       [[ 842, 1111,  911, 1110]],\n",
       "\n",
       "       [[ 847, 1103,  909, 1103]],\n",
       "\n",
       "       [[ 461,  498,  505,  605]],\n",
       "\n",
       "       [[1010,  411, 1073,  560]],\n",
       "\n",
       "       [[ 930,  684,  947,  606]],\n",
       "\n",
       "       [[1021, 1104, 1091, 1104]],\n",
       "\n",
       "       [[ 663, 1098,  723, 1098]],\n",
       "\n",
       "       [[ 479,  489,  531,  617]],\n",
       "\n",
       "       [[ 478, 1129,  546, 1129]],\n",
       "\n",
       "       [[ 847, 1102,  908, 1101]],\n",
       "\n",
       "       [[ 877,  862,  887,  796]],\n",
       "\n",
       "       [[ 844, 1107,  911, 1108]],\n",
       "\n",
       "       [[ 660, 1100,  727, 1100]],\n",
       "\n",
       "       [[ 306, 1105,  369, 1105]],\n",
       "\n",
       "       [[ 659, 1125,  729, 1125]],\n",
       "\n",
       "       [[ 383,  339,  383,  260]],\n",
       "\n",
       "       [[1033, 1115, 1092, 1116]],\n",
       "\n",
       "       [[1020, 1127, 1083, 1130]],\n",
       "\n",
       "       [[ 846, 1020,  846,  932]],\n",
       "\n",
       "       [[ 850, 1099,  906, 1099]],\n",
       "\n",
       "       [[ 845, 1106,  910, 1105]],\n",
       "\n",
       "       [[ 851, 1126,  909, 1125]],\n",
       "\n",
       "       [[ 672, 1109,  731, 1109]],\n",
       "\n",
       "       [[ 674, 1122,  730, 1122]],\n",
       "\n",
       "       [[ 306, 1122,  369, 1121]],\n",
       "\n",
       "       [[ 852, 1128,  907, 1128]],\n",
       "\n",
       "       [[ 659, 1127,  728, 1127]],\n",
       "\n",
       "       [[ 674, 1123,  730, 1123]],\n",
       "\n",
       "       [[ 838, 1118,  911, 1119]],\n",
       "\n",
       "       [[ 482, 1121,  551, 1119]],\n",
       "\n",
       "       [[ 152, 1076,  161, 1126]],\n",
       "\n",
       "       [[1021, 1113, 1092, 1113]],\n",
       "\n",
       "       [[ 953,  605,  985,  499]],\n",
       "\n",
       "       [[ 843, 1108,  911, 1109]],\n",
       "\n",
       "       [[ 492, 1107,  551, 1108]],\n",
       "\n",
       "       [[ 906,  692,  921,  637]],\n",
       "\n",
       "       [[  49, 1040,  108, 1059]],\n",
       "\n",
       "       [[ 478, 1126,  548, 1127]],\n",
       "\n",
       "       [[ 236,  471,  273,  562]],\n",
       "\n",
       "       [[ 838, 1121,  910, 1122]],\n",
       "\n",
       "       [[ 300, 1128,  368, 1125]],\n",
       "\n",
       "       [[ 300, 1127,  369, 1123]],\n",
       "\n",
       "       [[ 486, 1098,  549, 1102]],\n",
       "\n",
       "       [[1032, 1114, 1092, 1114]],\n",
       "\n",
       "       [[ 614,  839,  614,  777]],\n",
       "\n",
       "       [[ 409,  377,  432,  433]],\n",
       "\n",
       "       [[ 899,  836,  912,  767]],\n",
       "\n",
       "       [[1035, 1117, 1092, 1117]],\n",
       "\n",
       "       [[ 667, 1115,  731, 1116]],\n",
       "\n",
       "       [[ 671, 1110,  731, 1110]],\n",
       "\n",
       "       [[ 949,  551,  968,  494]],\n",
       "\n",
       "       [[  47,  868,  150,  865]],\n",
       "\n",
       "       [[ 497, 1128,  549, 1126]],\n",
       "\n",
       "       [[ 302, 1099,  369, 1104]],\n",
       "\n",
       "       [[ 890,  788,  897,  719]],\n",
       "\n",
       "       [[ 674, 1107,  730, 1106]],\n",
       "\n",
       "       [[ 846,  724,  865,  646]],\n",
       "\n",
       "       [[ 306, 1119,  370, 1116]],\n",
       "\n",
       "       [[ 664, 1114,  731, 1113]],\n",
       "\n",
       "       [[ 490, 1112,  551, 1111]],\n",
       "\n",
       "       [[1033, 1124, 1091, 1123]],\n",
       "\n",
       "       [[ 929,  687,  943,  629]],\n",
       "\n",
       "       [[ 840, 1113,  911, 1115]],\n",
       "\n",
       "       [[ 261,  530,  291,  604]],\n",
       "\n",
       "       [[1035, 1122, 1091, 1121]],\n",
       "\n",
       "       [[ 537,  606,  562,  714]],\n",
       "\n",
       "       [[  51,  337,  118,  337]],\n",
       "\n",
       "       [[ 852, 1129,  903, 1130]],\n",
       "\n",
       "       [[ 306, 1110,  370, 1109]],\n",
       "\n",
       "       [[ 492, 1105,  550, 1105]],\n",
       "\n",
       "       [[ 484, 1119,  551, 1117]],\n",
       "\n",
       "       [[  48,  674,  112,  674]],\n",
       "\n",
       "       [[ 671, 1116,  731, 1114]],\n",
       "\n",
       "       [[ 306, 1120,  370, 1120]],\n",
       "\n",
       "       [[ 491, 1111,  551, 1110]],\n",
       "\n",
       "       [[ 489, 1113,  551, 1115]],\n",
       "\n",
       "       [[ 306, 1104,  356, 1104]],\n",
       "\n",
       "       [[ 674, 1118,  731, 1117]],\n",
       "\n",
       "       [[ 672, 1103,  730, 1105]],\n",
       "\n",
       "       [[ 876,  863,  887,  797]],\n",
       "\n",
       "       [[ 435,  437,  466,  512]],\n",
       "\n",
       "       [[ 492, 1109,  547, 1115]],\n",
       "\n",
       "       [[ 483, 1098,  535, 1106]],\n",
       "\n",
       "       [[1021, 1106, 1091, 1105]],\n",
       "\n",
       "       [[ 486, 1117,  551, 1118]],\n",
       "\n",
       "       [[  61,  518,  118,  516]],\n",
       "\n",
       "       [[ 525,  634,  536,  689]],\n",
       "\n",
       "       [[ 664, 1112,  731, 1112]],\n",
       "\n",
       "       [[ 143,  323,  167,  374]],\n",
       "\n",
       "       [[ 299, 1103,  368, 1102]],\n",
       "\n",
       "       [[ 487, 1130,  543, 1130]],\n",
       "\n",
       "       [[1021, 1111, 1092, 1110]],\n",
       "\n",
       "       [[1021, 1103, 1089, 1101]],\n",
       "\n",
       "       [[ 478, 1102,  547, 1100]],\n",
       "\n",
       "       [[ 955,  596,  974,  534]],\n",
       "\n",
       "       [[ 840, 1122,  893, 1125]],\n",
       "\n",
       "       [[ 499,  539,  524,  602]],\n",
       "\n",
       "       [[1032, 1110, 1091, 1107]],\n",
       "\n",
       "       [[ 310, 1112,  370, 1110]],\n",
       "\n",
       "       [[ 875,  865,  884,  806]],\n",
       "\n",
       "       [[ 827,  633,  850,  701]],\n",
       "\n",
       "       [[ 674, 1106,  729, 1103]],\n",
       "\n",
       "       [[ 306, 1111,  370, 1113]],\n",
       "\n",
       "       [[ 490, 1103,  550, 1104]],\n",
       "\n",
       "       [[1021, 1100, 1084, 1098]],\n",
       "\n",
       "       [[ 468,  513,  494,  577]],\n",
       "\n",
       "       [[ 493, 1100,  551, 1109]],\n",
       "\n",
       "       [[ 540,  622,  556,  689]],\n",
       "\n",
       "       [[1035, 1120, 1092, 1120]],\n",
       "\n",
       "       [[1034, 1123, 1090, 1125]],\n",
       "\n",
       "       [[1035, 1119, 1092, 1119]],\n",
       "\n",
       "       [[ 817,  620,  856,  680]],\n",
       "\n",
       "       [[ 674, 1121,  731, 1119]],\n",
       "\n",
       "       [[ 306, 1113,  366, 1116]],\n",
       "\n",
       "       [[ 871,  865,  891,  783]],\n",
       "\n",
       "       [[ 234,  474,  270,  553]],\n",
       "\n",
       "       [[ 299, 1129,  365, 1129]],\n",
       "\n",
       "       [[1058, 1073, 1062, 1127]],\n",
       "\n",
       "       [[1012,  414, 1063,  534]],\n",
       "\n",
       "       [[ 660, 1099,  726, 1099]],\n",
       "\n",
       "       [[ 660, 1101,  728, 1101]],\n",
       "\n",
       "       [[ 673, 1108,  731, 1108]]], dtype=int32)"
      ]
     },
     "execution_count": 7,
     "metadata": {},
     "output_type": "execute_result"
    }
   ],
   "source": [
    "lines"
   ]
  },
  {
   "cell_type": "code",
   "execution_count": null,
   "id": "f3cb6a8e-5575-48e3-aa94-2d5c72b0ec64",
   "metadata": {},
   "outputs": [],
   "source": []
  }
 ],
 "metadata": {
  "kernelspec": {
   "display_name": "Python 3 (ipykernel)",
   "language": "python",
   "name": "python3"
  },
  "language_info": {
   "codemirror_mode": {
    "name": "ipython",
    "version": 3
   },
   "file_extension": ".py",
   "mimetype": "text/x-python",
   "name": "python",
   "nbconvert_exporter": "python",
   "pygments_lexer": "ipython3",
   "version": "3.9.6"
  }
 },
 "nbformat": 4,
 "nbformat_minor": 5
}
